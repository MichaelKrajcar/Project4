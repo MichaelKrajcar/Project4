{
 "cells": [
  {
   "cell_type": "code",
   "execution_count": 3,
   "metadata": {},
   "outputs": [],
   "source": [
    "import pandas as pd\n",
    "import streamlit as st\n",
    "import plotly_express as px\n",
    "import altair as at\n"
   ]
  },
  {
   "cell_type": "code",
   "execution_count": 4,
   "metadata": {},
   "outputs": [
    {
     "name": "stderr",
     "output_type": "stream",
     "text": [
      "2024-10-06 19:33:42.731 Thread 'MainThread': missing ScriptRunContext! This warning can be ignored when running in bare mode.\n",
      "2024-10-06 19:33:42.732 Thread 'MainThread': missing ScriptRunContext! This warning can be ignored when running in bare mode.\n",
      "2024-10-06 19:33:42.760 Thread 'MainThread': missing ScriptRunContext! This warning can be ignored when running in bare mode.\n",
      "2024-10-06 19:33:42.761 Thread 'MainThread': missing ScriptRunContext! This warning can be ignored when running in bare mode.\n",
      "2024-10-06 19:33:42.762 Thread 'MainThread': missing ScriptRunContext! This warning can be ignored when running in bare mode.\n",
      "2024-10-06 19:33:42.762 Thread 'MainThread': missing ScriptRunContext! This warning can be ignored when running in bare mode.\n",
      "2024-10-06 19:33:42.763 Thread 'MainThread': missing ScriptRunContext! This warning can be ignored when running in bare mode.\n",
      "2024-10-06 19:33:42.763 Thread 'MainThread': missing ScriptRunContext! This warning can be ignored when running in bare mode.\n",
      "2024-10-06 19:33:42.764 Thread 'MainThread': missing ScriptRunContext! This warning can be ignored when running in bare mode.\n"
     ]
    }
   ],
   "source": [
    "df = pd.read_csv('vehicles_us.csv')\n",
    "st.header('SDT Project')\n",
    "\n",
    "df['model_year'] = df['model_year'].fillna(df['model_year'].median())\n",
    "\n",
    "fig = px.scatter(df, x='model_year',\n",
    "                 y='price',\n",
    "                 title='Price and Model Year',\n",
    "                 labels={'model_year':'Model Year', 'price':'Sell Price'})\n",
    "fig.update_yaxes(range=[5000, 200000])\n",
    "st.plotly_chart(fig)\n",
    "\n",
    "show_histogram = st.checkbox('Show Histogram') #can delete st. for testing\n",
    "\n",
    "if show_histogram:\n",
    "    fig = px.histogram(df, x='type', title='Stock of Car Type', labels={'type':'Car Type'})\n",
    "    fig.update_layout(yaxis_title=\"Amount in Stock\")\n",
    "    st.plotly_chart(fig)\n",
    "\n",
    "    #Finally finished code after numerous attempts and a long hiatus, everything seems to be working."
   ]
  }
 ],
 "metadata": {
  "kernelspec": {
   "display_name": "Python 3",
   "language": "python",
   "name": "python3"
  },
  "language_info": {
   "codemirror_mode": {
    "name": "ipython",
    "version": 3
   },
   "file_extension": ".py",
   "mimetype": "text/x-python",
   "name": "python",
   "nbconvert_exporter": "python",
   "pygments_lexer": "ipython3",
   "version": "3.12.3"
  }
 },
 "nbformat": 4,
 "nbformat_minor": 2
}
